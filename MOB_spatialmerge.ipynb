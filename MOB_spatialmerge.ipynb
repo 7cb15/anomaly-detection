{
 "cells": [
  {
   "cell_type": "code",
   "execution_count": 2,
   "metadata": {},
   "outputs": [],
   "source": [
    "import pandas as pd\n",
    "import geopandas as gpd"
   ]
  },
  {
   "cell_type": "code",
   "execution_count": 8,
   "metadata": {},
   "outputs": [
    {
     "name": "stdout",
     "output_type": "stream",
     "text": [
      "Archive:  tl_2018_11_tract.zip\n",
      " extracting: tl_2018_11_tract.cpg    \n",
      "  inflating: tl_2018_11_tract.dbf    \n",
      "  inflating: tl_2018_11_tract.prj    \n",
      "  inflating: tl_2018_11_tract.shp    \n",
      "  inflating: tl_2018_11_tract.shp.ea.iso.xml  \n",
      "  inflating: tl_2018_11_tract.shp.iso.xml  \n",
      "  inflating: tl_2018_11_tract.shx    \n"
     ]
    }
   ],
   "source": [
    "!unzip tl_2018_11_tract.zip"
   ]
  },
  {
   "cell_type": "code",
   "execution_count": 4,
   "metadata": {},
   "outputs": [],
   "source": [
    "#https://www.census.gov/cgi-bin/geo/shapefiles/index.php?year=2018&layergroup=Census+Tracts\n",
    "dc_tracts = gpd.read_file('Shapefiles/tl_2018_11_tract.shp')"
   ]
  },
  {
   "cell_type": "code",
   "execution_count": 5,
   "metadata": {},
   "outputs": [
    {
     "data": {
      "text/plain": [
       "(179, 13)"
      ]
     },
     "execution_count": 5,
     "metadata": {},
     "output_type": "execute_result"
    }
   ],
   "source": [
    "dc_tracts.shape"
   ]
  },
  {
   "cell_type": "code",
   "execution_count": 12,
   "metadata": {},
   "outputs": [
    {
     "data": {
      "text/html": [
       "<div>\n",
       "<table border=\"1\" class=\"dataframe\">\n",
       "  <thead>\n",
       "    <tr style=\"text-align: right;\">\n",
       "      <th></th>\n",
       "      <th>STATEFP</th>\n",
       "      <th>COUNTYFP</th>\n",
       "      <th>TRACTCE</th>\n",
       "      <th>GEOID</th>\n",
       "      <th>NAME</th>\n",
       "      <th>NAMELSAD</th>\n",
       "      <th>MTFCC</th>\n",
       "      <th>FUNCSTAT</th>\n",
       "      <th>ALAND</th>\n",
       "      <th>AWATER</th>\n",
       "      <th>INTPTLAT</th>\n",
       "      <th>INTPTLON</th>\n",
       "      <th>geometry</th>\n",
       "    </tr>\n",
       "  </thead>\n",
       "  <tbody>\n",
       "    <tr>\n",
       "      <th>0</th>\n",
       "      <td>11</td>\n",
       "      <td>001</td>\n",
       "      <td>003700</td>\n",
       "      <td>11001003700</td>\n",
       "      <td>37</td>\n",
       "      <td>Census Tract 37</td>\n",
       "      <td>G5020</td>\n",
       "      <td>S</td>\n",
       "      <td>292372</td>\n",
       "      <td>0</td>\n",
       "      <td>+38.9228614</td>\n",
       "      <td>-077.0343330</td>\n",
       "      <td>POLYGON ((-77.0365 38.919284, -77.036493999999...</td>\n",
       "    </tr>\n",
       "    <tr>\n",
       "      <th>1</th>\n",
       "      <td>11</td>\n",
       "      <td>001</td>\n",
       "      <td>003800</td>\n",
       "      <td>11001003800</td>\n",
       "      <td>38</td>\n",
       "      <td>Census Tract 38</td>\n",
       "      <td>G5020</td>\n",
       "      <td>S</td>\n",
       "      <td>356114</td>\n",
       "      <td>0</td>\n",
       "      <td>+38.9216348</td>\n",
       "      <td>-077.0391794</td>\n",
       "      <td>POLYGON ((-77.04268399999999 38.922661, -77.04...</td>\n",
       "    </tr>\n",
       "    <tr>\n",
       "      <th>2</th>\n",
       "      <td>11</td>\n",
       "      <td>001</td>\n",
       "      <td>004001</td>\n",
       "      <td>11001004001</td>\n",
       "      <td>40.01</td>\n",
       "      <td>Census Tract 40.01</td>\n",
       "      <td>G5020</td>\n",
       "      <td>S</td>\n",
       "      <td>271211</td>\n",
       "      <td>2414</td>\n",
       "      <td>+38.9208738</td>\n",
       "      <td>-077.0462674</td>\n",
       "      <td>POLYGON ((-77.05018099999999 38.92124099999999...</td>\n",
       "    </tr>\n",
       "    <tr>\n",
       "      <th>3</th>\n",
       "      <td>11</td>\n",
       "      <td>001</td>\n",
       "      <td>004002</td>\n",
       "      <td>11001004002</td>\n",
       "      <td>40.02</td>\n",
       "      <td>Census Tract 40.02</td>\n",
       "      <td>G5020</td>\n",
       "      <td>S</td>\n",
       "      <td>194755</td>\n",
       "      <td>0</td>\n",
       "      <td>+38.9181186</td>\n",
       "      <td>-077.0437209</td>\n",
       "      <td>POLYGON ((-77.046297 38.916311, -77.0462989999...</td>\n",
       "    </tr>\n",
       "    <tr>\n",
       "      <th>4</th>\n",
       "      <td>11</td>\n",
       "      <td>001</td>\n",
       "      <td>003600</td>\n",
       "      <td>11001003600</td>\n",
       "      <td>36</td>\n",
       "      <td>Census Tract 36</td>\n",
       "      <td>G5020</td>\n",
       "      <td>S</td>\n",
       "      <td>305616</td>\n",
       "      <td>0</td>\n",
       "      <td>+38.9236744</td>\n",
       "      <td>-077.0296273</td>\n",
       "      <td>POLYGON ((-77.03240699999999 38.926573, -77.03...</td>\n",
       "    </tr>\n",
       "  </tbody>\n",
       "</table>\n",
       "</div>"
      ],
      "text/plain": [
       "  STATEFP COUNTYFP TRACTCE        GEOID   NAME            NAMELSAD  MTFCC  \\\n",
       "0      11      001  003700  11001003700     37     Census Tract 37  G5020   \n",
       "1      11      001  003800  11001003800     38     Census Tract 38  G5020   \n",
       "2      11      001  004001  11001004001  40.01  Census Tract 40.01  G5020   \n",
       "3      11      001  004002  11001004002  40.02  Census Tract 40.02  G5020   \n",
       "4      11      001  003600  11001003600     36     Census Tract 36  G5020   \n",
       "\n",
       "  FUNCSTAT   ALAND  AWATER     INTPTLAT      INTPTLON  \\\n",
       "0        S  292372       0  +38.9228614  -077.0343330   \n",
       "1        S  356114       0  +38.9216348  -077.0391794   \n",
       "2        S  271211    2414  +38.9208738  -077.0462674   \n",
       "3        S  194755       0  +38.9181186  -077.0437209   \n",
       "4        S  305616       0  +38.9236744  -077.0296273   \n",
       "\n",
       "                                            geometry  \n",
       "0  POLYGON ((-77.0365 38.919284, -77.036493999999...  \n",
       "1  POLYGON ((-77.04268399999999 38.922661, -77.04...  \n",
       "2  POLYGON ((-77.05018099999999 38.92124099999999...  \n",
       "3  POLYGON ((-77.046297 38.916311, -77.0462989999...  \n",
       "4  POLYGON ((-77.03240699999999 38.926573, -77.03...  "
      ]
     },
     "execution_count": 12,
     "metadata": {},
     "output_type": "execute_result"
    }
   ],
   "source": [
    "dc_tracts.head()"
   ]
  },
  {
   "cell_type": "code",
   "execution_count": 13,
   "metadata": {},
   "outputs": [
    {
     "name": "stdout",
     "output_type": "stream",
     "text": [
      "Archive:  tl_2018_24_tract.zip\n",
      " extracting: tl_2018_24_tract.cpg    \n",
      "  inflating: tl_2018_24_tract.dbf    \n",
      "  inflating: tl_2018_24_tract.prj    \n",
      "  inflating: tl_2018_24_tract.shp    \n",
      "  inflating: tl_2018_24_tract.shp.ea.iso.xml  \n",
      "  inflating: tl_2018_24_tract.shp.iso.xml  \n",
      "  inflating: tl_2018_24_tract.shx    \n"
     ]
    }
   ],
   "source": [
    "!unzip tl_2018_24_tract.zip\n"
   ]
  },
  {
   "cell_type": "code",
   "execution_count": 7,
   "metadata": {},
   "outputs": [],
   "source": [
    "mary_tracts = gpd.read_file('Shapefiles/tl_2018_24_tract.shp')"
   ]
  },
  {
   "cell_type": "code",
   "execution_count": 15,
   "metadata": {},
   "outputs": [
    {
     "data": {
      "text/html": [
       "<div>\n",
       "<table border=\"1\" class=\"dataframe\">\n",
       "  <thead>\n",
       "    <tr style=\"text-align: right;\">\n",
       "      <th></th>\n",
       "      <th>STATEFP</th>\n",
       "      <th>COUNTYFP</th>\n",
       "      <th>TRACTCE</th>\n",
       "      <th>GEOID</th>\n",
       "      <th>NAME</th>\n",
       "      <th>NAMELSAD</th>\n",
       "      <th>MTFCC</th>\n",
       "      <th>FUNCSTAT</th>\n",
       "      <th>ALAND</th>\n",
       "      <th>AWATER</th>\n",
       "      <th>INTPTLAT</th>\n",
       "      <th>INTPTLON</th>\n",
       "      <th>geometry</th>\n",
       "    </tr>\n",
       "  </thead>\n",
       "  <tbody>\n",
       "    <tr>\n",
       "      <th>0</th>\n",
       "      <td>24</td>\n",
       "      <td>033</td>\n",
       "      <td>807304</td>\n",
       "      <td>24033807304</td>\n",
       "      <td>8073.04</td>\n",
       "      <td>Census Tract 8073.04</td>\n",
       "      <td>G5020</td>\n",
       "      <td>S</td>\n",
       "      <td>1776714</td>\n",
       "      <td>0</td>\n",
       "      <td>+39.0249780</td>\n",
       "      <td>-076.9594342</td>\n",
       "      <td>POLYGON ((-76.971706 39.018576, -76.9716359999...</td>\n",
       "    </tr>\n",
       "    <tr>\n",
       "      <th>1</th>\n",
       "      <td>24</td>\n",
       "      <td>033</td>\n",
       "      <td>807305</td>\n",
       "      <td>24033807305</td>\n",
       "      <td>8073.05</td>\n",
       "      <td>Census Tract 8073.05</td>\n",
       "      <td>G5020</td>\n",
       "      <td>S</td>\n",
       "      <td>3030483</td>\n",
       "      <td>4428</td>\n",
       "      <td>+39.0121779</td>\n",
       "      <td>-076.9635510</td>\n",
       "      <td>POLYGON ((-76.977278 39.010947, -76.977142 39....</td>\n",
       "    </tr>\n",
       "    <tr>\n",
       "      <th>2</th>\n",
       "      <td>24</td>\n",
       "      <td>033</td>\n",
       "      <td>807405</td>\n",
       "      <td>24033807405</td>\n",
       "      <td>8074.05</td>\n",
       "      <td>Census Tract 8074.05</td>\n",
       "      <td>G5020</td>\n",
       "      <td>S</td>\n",
       "      <td>7093435</td>\n",
       "      <td>27200</td>\n",
       "      <td>+39.0383526</td>\n",
       "      <td>-076.9283090</td>\n",
       "      <td>POLYGON ((-76.94985699999999 39.022085, -76.94...</td>\n",
       "    </tr>\n",
       "    <tr>\n",
       "      <th>3</th>\n",
       "      <td>24</td>\n",
       "      <td>015</td>\n",
       "      <td>031400</td>\n",
       "      <td>24015031400</td>\n",
       "      <td>314</td>\n",
       "      <td>Census Tract 314</td>\n",
       "      <td>G5020</td>\n",
       "      <td>S</td>\n",
       "      <td>41540206</td>\n",
       "      <td>6724905</td>\n",
       "      <td>+39.6933253</td>\n",
       "      <td>-076.1659592</td>\n",
       "      <td>POLYGON ((-76.233279 39.721367, -76.224175 39....</td>\n",
       "    </tr>\n",
       "    <tr>\n",
       "      <th>4</th>\n",
       "      <td>24</td>\n",
       "      <td>015</td>\n",
       "      <td>030503</td>\n",
       "      <td>24015030503</td>\n",
       "      <td>305.03</td>\n",
       "      <td>Census Tract 305.03</td>\n",
       "      <td>G5020</td>\n",
       "      <td>S</td>\n",
       "      <td>41979711</td>\n",
       "      <td>1866517</td>\n",
       "      <td>+39.6210604</td>\n",
       "      <td>-075.8565829</td>\n",
       "      <td>POLYGON ((-75.93251699999999 39.643774, -75.93...</td>\n",
       "    </tr>\n",
       "  </tbody>\n",
       "</table>\n",
       "</div>"
      ],
      "text/plain": [
       "  STATEFP COUNTYFP TRACTCE        GEOID     NAME              NAMELSAD  MTFCC  \\\n",
       "0      24      033  807304  24033807304  8073.04  Census Tract 8073.04  G5020   \n",
       "1      24      033  807305  24033807305  8073.05  Census Tract 8073.05  G5020   \n",
       "2      24      033  807405  24033807405  8074.05  Census Tract 8074.05  G5020   \n",
       "3      24      015  031400  24015031400      314      Census Tract 314  G5020   \n",
       "4      24      015  030503  24015030503   305.03   Census Tract 305.03  G5020   \n",
       "\n",
       "  FUNCSTAT     ALAND   AWATER     INTPTLAT      INTPTLON  \\\n",
       "0        S   1776714        0  +39.0249780  -076.9594342   \n",
       "1        S   3030483     4428  +39.0121779  -076.9635510   \n",
       "2        S   7093435    27200  +39.0383526  -076.9283090   \n",
       "3        S  41540206  6724905  +39.6933253  -076.1659592   \n",
       "4        S  41979711  1866517  +39.6210604  -075.8565829   \n",
       "\n",
       "                                            geometry  \n",
       "0  POLYGON ((-76.971706 39.018576, -76.9716359999...  \n",
       "1  POLYGON ((-76.977278 39.010947, -76.977142 39....  \n",
       "2  POLYGON ((-76.94985699999999 39.022085, -76.94...  \n",
       "3  POLYGON ((-76.233279 39.721367, -76.224175 39....  \n",
       "4  POLYGON ((-75.93251699999999 39.643774, -75.93...  "
      ]
     },
     "execution_count": 15,
     "metadata": {},
     "output_type": "execute_result"
    }
   ],
   "source": [
    "mary_tracts.head()"
   ]
  },
  {
   "cell_type": "code",
   "execution_count": 8,
   "metadata": {},
   "outputs": [
    {
     "data": {
      "text/plain": [
       "{'init': 'epsg:4269'}"
      ]
     },
     "execution_count": 8,
     "metadata": {},
     "output_type": "execute_result"
    }
   ],
   "source": [
    "mary_tracts.crs"
   ]
  },
  {
   "cell_type": "code",
   "execution_count": 17,
   "metadata": {},
   "outputs": [
    {
     "data": {
      "text/plain": [
       "{'init': 'epsg:4269'}"
      ]
     },
     "execution_count": 17,
     "metadata": {},
     "output_type": "execute_result"
    }
   ],
   "source": [
    "dc_tracts.crs"
   ]
  },
  {
   "cell_type": "code",
   "execution_count": 18,
   "metadata": {},
   "outputs": [
    {
     "data": {
      "text/plain": [
       "(1406, 13)"
      ]
     },
     "execution_count": 18,
     "metadata": {},
     "output_type": "execute_result"
    }
   ],
   "source": [
    "mary_tracts.shape"
   ]
  },
  {
   "cell_type": "code",
   "execution_count": 19,
   "metadata": {},
   "outputs": [
    {
     "name": "stdout",
     "output_type": "stream",
     "text": [
      "Archive:  tl_2018_51_tract.zip\n",
      " extracting: tl_2018_51_tract.cpg    \n",
      "  inflating: tl_2018_51_tract.dbf    \n",
      "  inflating: tl_2018_51_tract.prj    \n",
      "  inflating: tl_2018_51_tract.shp    \n",
      "  inflating: tl_2018_51_tract.shp.ea.iso.xml  \n",
      "  inflating: tl_2018_51_tract.shp.iso.xml  \n",
      "  inflating: tl_2018_51_tract.shx    \n"
     ]
    }
   ],
   "source": [
    "!unzip tl_2018_51_tract.zip"
   ]
  },
  {
   "cell_type": "code",
   "execution_count": 9,
   "metadata": {},
   "outputs": [],
   "source": [
    "virg_tracts = gpd.read_file('Shapefiles/tl_2018_51_tract.shp')"
   ]
  },
  {
   "cell_type": "code",
   "execution_count": 22,
   "metadata": {},
   "outputs": [
    {
     "data": {
      "text/plain": [
       "(1907, 13)"
      ]
     },
     "execution_count": 22,
     "metadata": {},
     "output_type": "execute_result"
    }
   ],
   "source": [
    "virg_tracts.shape"
   ]
  },
  {
   "cell_type": "code",
   "execution_count": 10,
   "metadata": {},
   "outputs": [],
   "source": [
    "virg_df = pd.DataFrame(virg_tracts)"
   ]
  },
  {
   "cell_type": "code",
   "execution_count": 11,
   "metadata": {},
   "outputs": [],
   "source": [
    "dc_df = pd.DataFrame(dc_tracts)"
   ]
  },
  {
   "cell_type": "code",
   "execution_count": 12,
   "metadata": {},
   "outputs": [],
   "source": [
    "mary_df = pd.DataFrame(mary_tracts)"
   ]
  },
  {
   "cell_type": "code",
   "execution_count": 13,
   "metadata": {},
   "outputs": [],
   "source": [
    "all_shapes = pd.concat([virg_df,dc_df,mary_df], ignore_index=True)"
   ]
  },
  {
   "cell_type": "code",
   "execution_count": 14,
   "metadata": {},
   "outputs": [],
   "source": [
    "geometry= all_shapes['geometry']\n",
    "crs = {'init': 'epsg:4269'}\n",
    "all_state_geo = gpd.GeoDataFrame(all_shapes, crs=crs, geometry=geometry)"
   ]
  },
  {
   "cell_type": "code",
   "execution_count": 15,
   "metadata": {},
   "outputs": [
    {
     "data": {
      "text/plain": [
       "geopandas.geodataframe.GeoDataFrame"
      ]
     },
     "execution_count": 15,
     "metadata": {},
     "output_type": "execute_result"
    }
   ],
   "source": [
    "type(all_state_geo)"
   ]
  },
  {
   "cell_type": "code",
   "execution_count": 26,
   "metadata": {},
   "outputs": [],
   "source": [
    "all_state_geo = pd.DataFrame(all_state_geo)"
   ]
  },
  {
   "cell_type": "code",
   "execution_count": 17,
   "metadata": {},
   "outputs": [],
   "source": [
    "all_state_geo.to_csv('all_state_CTs.csv') #export csv"
   ]
  },
  {
   "cell_type": "code",
   "execution_count": 30,
   "metadata": {},
   "outputs": [],
   "source": [
    "geometry= all_state_geo['geometry']\n",
    "crs = {'init': 'epsg:4269'}\n",
    "all_state_geo = gpd.GeoDataFrame(all_state_geo, crs=crs, geometry=geometry)"
   ]
  },
  {
   "cell_type": "code",
   "execution_count": 31,
   "metadata": {},
   "outputs": [],
   "source": [
    "all_state_geo.to_file('merged_CTs.shp',driver='ESRI Shapefile')"
   ]
  },
  {
   "cell_type": "code",
   "execution_count": 20,
   "metadata": {},
   "outputs": [
    {
     "data": {
      "text/html": [
       "<div>\n",
       "<table border=\"1\" class=\"dataframe\">\n",
       "  <thead>\n",
       "    <tr style=\"text-align: right;\">\n",
       "      <th></th>\n",
       "      <th>STATEFP</th>\n",
       "      <th>COUNTYFP</th>\n",
       "      <th>TRACTCE</th>\n",
       "      <th>GEOID</th>\n",
       "      <th>NAME</th>\n",
       "      <th>NAMELSAD</th>\n",
       "      <th>MTFCC</th>\n",
       "      <th>FUNCSTAT</th>\n",
       "      <th>ALAND</th>\n",
       "      <th>AWATER</th>\n",
       "      <th>INTPTLAT</th>\n",
       "      <th>INTPTLON</th>\n",
       "      <th>geometry</th>\n",
       "    </tr>\n",
       "  </thead>\n",
       "  <tbody>\n",
       "    <tr>\n",
       "      <th>0</th>\n",
       "      <td>51</td>\n",
       "      <td>179</td>\n",
       "      <td>010502</td>\n",
       "      <td>51179010502</td>\n",
       "      <td>105.02</td>\n",
       "      <td>Census Tract 105.02</td>\n",
       "      <td>G5020</td>\n",
       "      <td>S</td>\n",
       "      <td>14055402</td>\n",
       "      <td>618196</td>\n",
       "      <td>+38.2809373</td>\n",
       "      <td>-077.4125747</td>\n",
       "      <td>POLYGON ((-77.458085 38.304298, -77.457764 38....</td>\n",
       "    </tr>\n",
       "    <tr>\n",
       "      <th>1</th>\n",
       "      <td>51</td>\n",
       "      <td>179</td>\n",
       "      <td>010207</td>\n",
       "      <td>51179010207</td>\n",
       "      <td>102.07</td>\n",
       "      <td>Census Tract 102.07</td>\n",
       "      <td>G5020</td>\n",
       "      <td>S</td>\n",
       "      <td>7656808</td>\n",
       "      <td>411682</td>\n",
       "      <td>+38.4803399</td>\n",
       "      <td>-077.4060766</td>\n",
       "      <td>POLYGON ((-77.433375 38.49089, -77.43328 38.49...</td>\n",
       "    </tr>\n",
       "    <tr>\n",
       "      <th>2</th>\n",
       "      <td>51</td>\n",
       "      <td>179</td>\n",
       "      <td>010406</td>\n",
       "      <td>51179010406</td>\n",
       "      <td>104.06</td>\n",
       "      <td>Census Tract 104.06</td>\n",
       "      <td>G5020</td>\n",
       "      <td>S</td>\n",
       "      <td>6504006</td>\n",
       "      <td>276922</td>\n",
       "      <td>+38.3051765</td>\n",
       "      <td>-077.4335641</td>\n",
       "      <td>POLYGON ((-77.471358 38.319528, -77.471127 38....</td>\n",
       "    </tr>\n",
       "    <tr>\n",
       "      <th>3</th>\n",
       "      <td>51</td>\n",
       "      <td>179</td>\n",
       "      <td>010103</td>\n",
       "      <td>51179010103</td>\n",
       "      <td>101.03</td>\n",
       "      <td>Census Tract 101.03</td>\n",
       "      <td>G5020</td>\n",
       "      <td>S</td>\n",
       "      <td>5070893</td>\n",
       "      <td>395956</td>\n",
       "      <td>+38.4589777</td>\n",
       "      <td>-077.3928997</td>\n",
       "      <td>POLYGON ((-77.406522 38.460714, -77.406516 38....</td>\n",
       "    </tr>\n",
       "    <tr>\n",
       "      <th>4</th>\n",
       "      <td>51</td>\n",
       "      <td>179</td>\n",
       "      <td>010301</td>\n",
       "      <td>51179010301</td>\n",
       "      <td>103.01</td>\n",
       "      <td>Census Tract 103.01</td>\n",
       "      <td>G5020</td>\n",
       "      <td>S</td>\n",
       "      <td>65673133</td>\n",
       "      <td>412218</td>\n",
       "      <td>+38.4537694</td>\n",
       "      <td>-077.5712426</td>\n",
       "      <td>POLYGON ((-77.634309 38.464559, -77.6342799999...</td>\n",
       "    </tr>\n",
       "  </tbody>\n",
       "</table>\n",
       "</div>"
      ],
      "text/plain": [
       "  STATEFP COUNTYFP TRACTCE        GEOID    NAME             NAMELSAD  MTFCC  \\\n",
       "0      51      179  010502  51179010502  105.02  Census Tract 105.02  G5020   \n",
       "1      51      179  010207  51179010207  102.07  Census Tract 102.07  G5020   \n",
       "2      51      179  010406  51179010406  104.06  Census Tract 104.06  G5020   \n",
       "3      51      179  010103  51179010103  101.03  Census Tract 101.03  G5020   \n",
       "4      51      179  010301  51179010301  103.01  Census Tract 103.01  G5020   \n",
       "\n",
       "  FUNCSTAT     ALAND  AWATER     INTPTLAT      INTPTLON  \\\n",
       "0        S  14055402  618196  +38.2809373  -077.4125747   \n",
       "1        S   7656808  411682  +38.4803399  -077.4060766   \n",
       "2        S   6504006  276922  +38.3051765  -077.4335641   \n",
       "3        S   5070893  395956  +38.4589777  -077.3928997   \n",
       "4        S  65673133  412218  +38.4537694  -077.5712426   \n",
       "\n",
       "                                            geometry  \n",
       "0  POLYGON ((-77.458085 38.304298, -77.457764 38....  \n",
       "1  POLYGON ((-77.433375 38.49089, -77.43328 38.49...  \n",
       "2  POLYGON ((-77.471358 38.319528, -77.471127 38....  \n",
       "3  POLYGON ((-77.406522 38.460714, -77.406516 38....  \n",
       "4  POLYGON ((-77.634309 38.464559, -77.6342799999...  "
      ]
     },
     "execution_count": 20,
     "metadata": {},
     "output_type": "execute_result"
    }
   ],
   "source": [
    "all_state_geo.head()"
   ]
  },
  {
   "cell_type": "code",
   "execution_count": 21,
   "metadata": {},
   "outputs": [
    {
     "name": "stdout",
     "output_type": "stream",
     "text": [
      "<class 'geopandas.geodataframe.GeoDataFrame'>\n",
      "RangeIndex: 3492 entries, 0 to 3491\n",
      "Data columns (total 13 columns):\n",
      "STATEFP     3492 non-null object\n",
      "COUNTYFP    3492 non-null object\n",
      "TRACTCE     3492 non-null object\n",
      "GEOID       3492 non-null object\n",
      "NAME        3492 non-null object\n",
      "NAMELSAD    3492 non-null object\n",
      "MTFCC       3492 non-null object\n",
      "FUNCSTAT    3492 non-null object\n",
      "ALAND       3492 non-null int64\n",
      "AWATER      3492 non-null int64\n",
      "INTPTLAT    3492 non-null object\n",
      "INTPTLON    3492 non-null object\n",
      "geometry    3492 non-null object\n",
      "dtypes: int64(2), object(11)\n",
      "memory usage: 354.7+ KB\n"
     ]
    }
   ],
   "source": [
    "all_state_geo.info()"
   ]
  },
  {
   "cell_type": "code",
   "execution_count": null,
   "metadata": {},
   "outputs": [],
   "source": []
  }
 ],
 "metadata": {
  "kernelspec": {
   "display_name": "PUI2016_Python3",
   "language": "python",
   "name": "pui2016_python3"
  },
  "language_info": {
   "codemirror_mode": {
    "name": "ipython",
    "version": 3
   },
   "file_extension": ".py",
   "mimetype": "text/x-python",
   "name": "python",
   "nbconvert_exporter": "python",
   "pygments_lexer": "ipython3",
   "version": "3.5.4"
  }
 },
 "nbformat": 4,
 "nbformat_minor": 2
}
