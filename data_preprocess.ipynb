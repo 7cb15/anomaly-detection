{
 "cells": [
  {
   "cell_type": "code",
   "execution_count": 1,
   "metadata": {},
   "outputs": [],
   "source": [
    "#import libraries\n",
    "import pandas as pd\n",
    "import geopandas as gpd\n",
    "from shapely.geometry import Point\n",
    "import geopy.distance\n",
    "import re\n",
    "import os"
   ]
  },
  {
   "cell_type": "markdown",
   "metadata": {},
   "source": [
    "url for rides data: http://opendata.dc.gov/datasets?q=taxicabs\n",
    "\n",
    "zip code shape files for all three states: https://www.census.gov/geo/maps-data/data/cbf/cbf_zcta.html"
   ]
  },
  {
   "cell_type": "code",
   "execution_count": 9,
   "metadata": {},
   "outputs": [],
   "source": [
    "#move the files from the cwd to the \n",
    "file_list =['taxitrip_2015.zip','taxitrip_2016.zip','taxitrip_2017.zip', 'merged_CTs.zip']\n",
    "            \n",
    "for file in file_list:\n",
    "    os.system('mv '+file+' '+os.getcwd()+'/Data')"
   ]
  },
  {
   "cell_type": "code",
   "execution_count": 12,
   "metadata": {},
   "outputs": [],
   "source": [
    "for file in file_list:\n",
    "    os.system('unzip '+os.getcwd()+'/Data/'+file)"
   ]
  },
  {
   "cell_type": "code",
   "execution_count": 15,
   "metadata": {},
   "outputs": [
    {
     "data": {
      "text/plain": [
       "'/nfshome/cb4102/MOB'"
      ]
     },
     "execution_count": 15,
     "metadata": {},
     "output_type": "execute_result"
    }
   ],
   "source": [
    "os.getcwd()"
   ]
  },
  {
   "cell_type": "code",
   "execution_count": 73,
   "metadata": {},
   "outputs": [
    {
     "data": {
      "text/html": [
       "<div>\n",
       "<table border=\"1\" class=\"dataframe\">\n",
       "  <thead>\n",
       "    <tr style=\"text-align: right;\">\n",
       "      <th></th>\n",
       "      <th>ZCTA5CE10</th>\n",
       "      <th>AFFGEOID10</th>\n",
       "      <th>GEOID10</th>\n",
       "      <th>ALAND10</th>\n",
       "      <th>AWATER10</th>\n",
       "      <th>geometry</th>\n",
       "    </tr>\n",
       "  </thead>\n",
       "  <tbody>\n",
       "    <tr>\n",
       "      <th>0</th>\n",
       "      <td>35442</td>\n",
       "      <td>8600000US35442</td>\n",
       "      <td>35442</td>\n",
       "      <td>610213891</td>\n",
       "      <td>10838694</td>\n",
       "      <td>(POLYGON ((-88.252618 32.92675, -88.249724 32....</td>\n",
       "    </tr>\n",
       "    <tr>\n",
       "      <th>1</th>\n",
       "      <td>85365</td>\n",
       "      <td>8600000US85365</td>\n",
       "      <td>85365</td>\n",
       "      <td>3545016067</td>\n",
       "      <td>9766486</td>\n",
       "      <td>(POLYGON ((-114.684663 32.687389, -114.676063 ...</td>\n",
       "    </tr>\n",
       "    <tr>\n",
       "      <th>2</th>\n",
       "      <td>71973</td>\n",
       "      <td>8600000US71973</td>\n",
       "      <td>71973</td>\n",
       "      <td>204670474</td>\n",
       "      <td>1264709</td>\n",
       "      <td>POLYGON ((-94.46643176650841 34.330735, -94.46...</td>\n",
       "    </tr>\n",
       "    <tr>\n",
       "      <th>3</th>\n",
       "      <td>95445</td>\n",
       "      <td>8600000US95445</td>\n",
       "      <td>95445</td>\n",
       "      <td>221559097</td>\n",
       "      <td>7363179</td>\n",
       "      <td>POLYGON ((-123.643051 38.851233, -123.641401 3...</td>\n",
       "    </tr>\n",
       "    <tr>\n",
       "      <th>4</th>\n",
       "      <td>06870</td>\n",
       "      <td>8600000US06870</td>\n",
       "      <td>06870</td>\n",
       "      <td>5945321</td>\n",
       "      <td>3841130</td>\n",
       "      <td>POLYGON ((-73.58765810889219 41.0076522198727,...</td>\n",
       "    </tr>\n",
       "  </tbody>\n",
       "</table>\n",
       "</div>"
      ],
      "text/plain": [
       "  ZCTA5CE10      AFFGEOID10 GEOID10     ALAND10  AWATER10  \\\n",
       "0     35442  8600000US35442   35442   610213891  10838694   \n",
       "1     85365  8600000US85365   85365  3545016067   9766486   \n",
       "2     71973  8600000US71973   71973   204670474   1264709   \n",
       "3     95445  8600000US95445   95445   221559097   7363179   \n",
       "4     06870  8600000US06870   06870     5945321   3841130   \n",
       "\n",
       "                                            geometry  \n",
       "0  (POLYGON ((-88.252618 32.92675, -88.249724 32....  \n",
       "1  (POLYGON ((-114.684663 32.687389, -114.676063 ...  \n",
       "2  POLYGON ((-94.46643176650841 34.330735, -94.46...  \n",
       "3  POLYGON ((-123.643051 38.851233, -123.641401 3...  \n",
       "4  POLYGON ((-73.58765810889219 41.0076522198727,...  "
      ]
     },
     "execution_count": 73,
     "metadata": {},
     "output_type": "execute_result"
    }
   ],
   "source": [
    "zipcodes = gpd.read_file('Data/cb_2017_us_zcta510_500k.shp')\n",
    "zipcodes.head()"
   ]
  },
  {
   "cell_type": "code",
   "execution_count": 74,
   "metadata": {},
   "outputs": [
    {
     "data": {
      "text/plain": [
       "(33144, 6)"
      ]
     },
     "execution_count": 74,
     "metadata": {},
     "output_type": "execute_result"
    }
   ],
   "source": [
    "zipcodes.shape"
   ]
  },
  {
   "cell_type": "code",
   "execution_count": 30,
   "metadata": {},
   "outputs": [],
   "source": [
    "pd.set_option('display.max_columns', 500)"
   ]
  },
  {
   "cell_type": "code",
   "execution_count": 98,
   "metadata": {},
   "outputs": [
    {
     "name": "stderr",
     "output_type": "stream",
     "text": [
      "/usr/local/Anaconda3-5.0.0-Linux-x86_64/envs/PUI2016_Python3/lib/python3.5/site-packages/IPython/core/interactiveshell.py:2717: DtypeWarning: Columns (0) have mixed types. Specify dtype option on import or set low_memory=False.\n",
      "  interactivity=interactivity, compiler=compiler, result=result)\n",
      "/usr/local/Anaconda3-5.0.0-Linux-x86_64/envs/PUI2016_Python3/lib/python3.5/site-packages/ipykernel/__main__.py:27: SettingWithCopyWarning: \n",
      "A value is trying to be set on a copy of a slice from a DataFrame\n",
      "\n",
      "See the caveats in the documentation: http://pandas.pydata.org/pandas-docs/stable/indexing.html#indexing-view-versus-copy\n"
     ]
    },
    {
     "name": "stdout",
     "output_type": "stream",
     "text": [
      "Apr 2015 Trips.rpt is loaded\n",
      "May 2015 Trips.rpt is loaded\n",
      "Jul 2015 Trips.rpt is loaded\n",
      "Aug 2015 Trips.rpt is loaded\n",
      "Sep 2015 Trips.rpt is loaded\n",
      "Oct 2015 Trips.rpt is loaded\n",
      "Nov 2015 Trips.rpt is loaded\n",
      "Dec 2015 Trips.rpt is loaded\n",
      "Jan 2016 Trips.rpt is loaded\n",
      "Feb 2016 Trips.rpt is loaded\n",
      "Mar 2016 Trips.rpt is loaded\n",
      "Apr 2016 Trips.rpt is loaded\n",
      "May 2016 Trips.rpt is loaded\n",
      "Jun 2016 Trips.rpt is loaded\n",
      "Jul 2016 Trips.rpt is loaded\n",
      "Aug 2016 Trips.rpt is loaded\n",
      "Sep 2016 Trips.rpt is loaded\n",
      "Nov 2016 Trips.rpt is loaded\n",
      "Dec 2016 Trips.rpt is loaded\n"
     ]
    },
    {
     "name": "stderr",
     "output_type": "stream",
     "text": [
      "/usr/local/Anaconda3-5.0.0-Linux-x86_64/envs/PUI2016_Python3/lib/python3.5/site-packages/IPython/core/interactiveshell.py:2717: DtypeWarning: Columns (0,5,15,19,22,26) have mixed types. Specify dtype option on import or set low_memory=False.\n",
      "  interactivity=interactivity, compiler=compiler, result=result)\n"
     ]
    },
    {
     "name": "stdout",
     "output_type": "stream",
     "text": [
      "Jan 2017 Trips.rpt is loaded\n"
     ]
    },
    {
     "name": "stderr",
     "output_type": "stream",
     "text": [
      "b'Skipping line 521111: expected 31 fields, saw 32\\nSkipping line 521221: expected 31 fields, saw 32\\n'\n",
      "/usr/local/Anaconda3-5.0.0-Linux-x86_64/envs/PUI2016_Python3/lib/python3.5/site-packages/IPython/core/interactiveshell.py:2717: DtypeWarning: Columns (0,5,22) have mixed types. Specify dtype option on import or set low_memory=False.\n",
      "  interactivity=interactivity, compiler=compiler, result=result)\n"
     ]
    },
    {
     "name": "stdout",
     "output_type": "stream",
     "text": [
      "Feb 2017 Trips.rpt is loaded\n"
     ]
    },
    {
     "name": "stderr",
     "output_type": "stream",
     "text": [
      "/usr/local/Anaconda3-5.0.0-Linux-x86_64/envs/PUI2016_Python3/lib/python3.5/site-packages/IPython/core/interactiveshell.py:2717: DtypeWarning: Columns (0,5) have mixed types. Specify dtype option on import or set low_memory=False.\n",
      "  interactivity=interactivity, compiler=compiler, result=result)\n"
     ]
    },
    {
     "name": "stdout",
     "output_type": "stream",
     "text": [
      "Mar 2017 Trips.rpt is loaded\n"
     ]
    },
    {
     "name": "stderr",
     "output_type": "stream",
     "text": [
      "/usr/local/Anaconda3-5.0.0-Linux-x86_64/envs/PUI2016_Python3/lib/python3.5/site-packages/IPython/core/interactiveshell.py:2717: DtypeWarning: Columns (0,5,26) have mixed types. Specify dtype option on import or set low_memory=False.\n",
      "  interactivity=interactivity, compiler=compiler, result=result)\n"
     ]
    },
    {
     "name": "stdout",
     "output_type": "stream",
     "text": [
      "Apr 2017 Trips.rpt is loaded\n"
     ]
    },
    {
     "name": "stderr",
     "output_type": "stream",
     "text": [
      "b'Skipping line 200019: expected 31 fields, saw 32\\n'\n",
      "b'Skipping line 994198: expected 31 fields, saw 32\\n'\n"
     ]
    },
    {
     "name": "stdout",
     "output_type": "stream",
     "text": [
      "May 2017 Trips.rpt is loaded\n"
     ]
    },
    {
     "name": "stderr",
     "output_type": "stream",
     "text": [
      "b'Skipping line 1099: expected 31 fields, saw 32\\nSkipping line 13434: expected 31 fields, saw 32\\n'\n",
      "b'Skipping line 955628: expected 31 fields, saw 32\\n'\n"
     ]
    },
    {
     "name": "stdout",
     "output_type": "stream",
     "text": [
      "Jun 2017 Trips.rpt is loaded\n"
     ]
    },
    {
     "name": "stderr",
     "output_type": "stream",
     "text": [
      "b'Skipping line 86502: expected 31 fields, saw 32\\n'\n",
      "b'Skipping line 493661: expected 31 fields, saw 32\\n'\n"
     ]
    },
    {
     "name": "stdout",
     "output_type": "stream",
     "text": [
      "Jul 2017 Trips.rpt is loaded\n"
     ]
    },
    {
     "name": "stderr",
     "output_type": "stream",
     "text": [
      "b'Skipping line 21521: expected 31 fields, saw 32\\n'\n",
      "b'Skipping line 537137: expected 31 fields, saw 32\\n'\n",
      "b'Skipping line 709663: expected 31 fields, saw 32\\n'\n",
      "b'Skipping line 757888: expected 31 fields, saw 32\\n'\n"
     ]
    },
    {
     "name": "stdout",
     "output_type": "stream",
     "text": [
      "Aug 2017 Trips.rpt is loaded\n"
     ]
    },
    {
     "name": "stderr",
     "output_type": "stream",
     "text": [
      "b'Skipping line 162370: expected 31 fields, saw 32\\n'\n"
     ]
    },
    {
     "name": "stdout",
     "output_type": "stream",
     "text": [
      "Sep 2017 Trips.rpt is loaded\n"
     ]
    },
    {
     "name": "stderr",
     "output_type": "stream",
     "text": [
      "b'Skipping line 164753: expected 31 fields, saw 32\\n'\n",
      "b'Skipping line 325594: expected 31 fields, saw 32\\n'\n",
      "b'Skipping line 511900: expected 31 fields, saw 32\\n'\n",
      "b'Skipping line 703641: expected 31 fields, saw 32\\n'\n",
      "b'Skipping line 786338: expected 31 fields, saw 32\\n'\n",
      "b'Skipping line 942658: expected 31 fields, saw 32\\n'\n"
     ]
    },
    {
     "name": "stdout",
     "output_type": "stream",
     "text": [
      "Oct 2017 Trips.rpt is loaded\n"
     ]
    },
    {
     "name": "stderr",
     "output_type": "stream",
     "text": [
      "b'Skipping line 83789: expected 31 fields, saw 32\\n'\n",
      "b'Skipping line 169475: expected 31 fields, saw 32\\nSkipping line 193945: expected 31 fields, saw 32\\n'\n",
      "b'Skipping line 274767: expected 31 fields, saw 32\\n'\n",
      "b'Skipping line 321077: expected 31 fields, saw 32\\n'\n",
      "b'Skipping line 350916: expected 31 fields, saw 32\\n'\n",
      "b'Skipping line 463204: expected 31 fields, saw 32\\n'\n",
      "b'Skipping line 556772: expected 31 fields, saw 32\\n'\n",
      "b'Skipping line 836699: expected 31 fields, saw 32\\n'\n"
     ]
    },
    {
     "name": "stdout",
     "output_type": "stream",
     "text": [
      "Nov 2017 Trips.rpt is loaded\n"
     ]
    },
    {
     "name": "stderr",
     "output_type": "stream",
     "text": [
      "b'Skipping line 866: expected 31 fields, saw 32\\nSkipping line 1011: expected 31 fields, saw 32\\n'\n",
      "b'Skipping line 65592: expected 31 fields, saw 32\\n'\n",
      "b'Skipping line 106959: expected 31 fields, saw 32\\n'\n",
      "/usr/local/Anaconda3-5.0.0-Linux-x86_64/envs/PUI2016_Python3/lib/python3.5/site-packages/IPython/core/interactiveshell.py:2717: DtypeWarning: Columns (0,15,19,22,26) have mixed types. Specify dtype option on import or set low_memory=False.\n",
      "  interactivity=interactivity, compiler=compiler, result=result)\n"
     ]
    },
    {
     "name": "stdout",
     "output_type": "stream",
     "text": [
      "Dec 2017 Trips.rpt is loaded\n"
     ]
    }
   ],
   "source": [
    "#load each file as a dataframe, filter it and geotag it \n",
    "path = 'Data/'\n",
    "\n",
    "#list of files to load individuallly\n",
    "file_list = ['Apr 2015 Trips.rpt','May 2015 Trips.rpt','Jun 2015 Trips.rpt','Jul 2015 Trips.rpt','Aug 2015 Trips.rpt',\n",
    "            'Sep 2015 Trips.rpt','Oct 2015 Trips.rpt','Nov 2015 Trips.rpt','Dec 2015 Trips.rpt','Jan 2016 Trips.rpt',\n",
    "            'Feb 2016 Trips.rpt','Mar 2016 Trips.rpt','Apr 2016 Trips.rpt','May 2016 Trips.rpt','Jun 2016 Trips.rpt',\n",
    "            'Jul 2016 Trips.rpt','Aug 2016 Trips.rpt','Sep 2016 Trips.rpt','Nov 2016 Trips.rpt','Dec 2016 Trips.rpt',\n",
    "            'Jan 2017 Trips.rpt','Feb 2017 Trips.rpt','Mar 2017 Trips.rpt','Apr 2017 Trips.rpt','May 2017 Trips.rpt',\n",
    "            'Jun 2017 Trips.rpt','Jul 2017 Trips.rpt','Aug 2017 Trips.rpt','Sep 2017 Trips.rpt','Oct 2017 Trips.rpt',\n",
    "            'Nov 2017 Trips.rpt','Dec 2017 Trips.rpt']\n",
    "\n",
    "#list of columns to keep from the raw data\n",
    "col_list = ['StartDateTime.1','EndDateTime','OriginStreetName','OriginLatitude','OriginLongitude',\n",
    "                        'DestinationStreetName','DestinationLatitude','DestinationLongitude']\n",
    "\n",
    "df_list = [] #initialize list to store dataframes\n",
    "\n",
    "for i in file_list:\n",
    "    df = pd.read_csv(path+i,sep = '|',error_bad_lines=False) #load month file\n",
    "    df = df[col_list] #filter to column list\n",
    "    df['id'] = df.index + 1 #create id column\n",
    "    \n",
    "    #clean dataframe for converting to gpd\n",
    "    geo_test = df[['id','OriginLatitude','OriginLongitude','DestinationLatitude','DestinationLongitude']]\n",
    "    #clean geo data - drop NaNs and \n",
    "    geo_test.dropna(how='any',inplace=True)\n",
    "    geo_test = geo_test[(geo_test.T != 0).any()]\n",
    "    \n",
    "    #convert to geopandas df and perform spatial join to get pickup zip\n",
    "    geometry_pickup = [Point(xy) for xy in zip(geo_test['OriginLongitude'], geo_test['OriginLatitude'])]\n",
    "    crs = {'init': 'epsg:4269'}\n",
    "    pickup_geo = gpd.GeoDataFrame(geo_test, crs=crs, geometry=geometry_pickup)\n",
    "    \n",
    "    geo_pickup = gpd.sjoin(pickup_geo, zipcodes, how='left', op='intersects')\n",
    "    geo_pickup = pd.DataFrame(geo_pickup[['id','ZCTA5CE10']])\n",
    "    geo_pickup.rename(columns={'ZCTA5CE10':'pickup_zip'},inplace=True)\n",
    "    \n",
    "    #Get drop-off zip from zip code spatial join\n",
    "    geometry_dropoff = [Point(xy) for xy in zip(geo_test['DestinationLongitude'], geo_test['DestinationLatitude'])]\n",
    "    crs = {'init': 'epsg:4269'}\n",
    "    dropoff_geo = gpd.GeoDataFrame(geo_test, crs=crs, geometry=geometry_dropoff)\n",
    "    \n",
    "    geo_dropoff = gpd.sjoin(dropoff_geo, zipcodes, how='left', op='intersects')\n",
    "    geo_dropoff = pd.DataFrame(geo_dropoff[['id','ZCTA5CE10']])\n",
    "    geo_dropoff.rename(columns={'ZCTA5CE10':'dropoff_zip'},inplace=True)\n",
    "    \n",
    "    geo = pd.merge(left=geo_pickup,right=geo_dropoff,left_on='id',right_on='id')\n",
    "    df = pd.merge(left=df,right=geo,how='left',left_on='id',right_on='id')\n",
    "    \n",
    "    df_list.append(df)\n",
    "    \n",
    "    print(i+\" is loaded\")\n",
    "    \n",
    "dc_rides = pd.concat(df_list)"
   ]
  },
  {
   "cell_type": "code",
   "execution_count": 99,
   "metadata": {},
   "outputs": [
    {
     "name": "stdout",
     "output_type": "stream",
     "text": [
      "(36488272, 11)\n"
     ]
    }
   ],
   "source": [
    "dc_rides.head()\n",
    "print(dc_rides.shape)"
   ]
  },
  {
   "cell_type": "code",
   "execution_count": 100,
   "metadata": {},
   "outputs": [
    {
     "data": {
      "text/html": [
       "<div>\n",
       "<table border=\"1\" class=\"dataframe\">\n",
       "  <thead>\n",
       "    <tr style=\"text-align: right;\">\n",
       "      <th></th>\n",
       "      <th>StartDateTime.1</th>\n",
       "      <th>EndDateTime</th>\n",
       "      <th>OriginStreetName</th>\n",
       "      <th>OriginLatitude</th>\n",
       "      <th>OriginLongitude</th>\n",
       "      <th>DestinationStreetName</th>\n",
       "      <th>DestinationLatitude</th>\n",
       "      <th>DestinationLongitude</th>\n",
       "      <th>id</th>\n",
       "      <th>pickup_zip_x</th>\n",
       "      <th>pickup_zip_y</th>\n",
       "    </tr>\n",
       "  </thead>\n",
       "  <tbody>\n",
       "    <tr>\n",
       "      <th>0</th>\n",
       "      <td>2015-04-24 11:09:49.5900000 +00:00</td>\n",
       "      <td>2015-04-24 11:20:39.2066667 +00:00</td>\n",
       "      <td>1120 Nw L St Washington Dc 20037</td>\n",
       "      <td>38.90364</td>\n",
       "      <td>-77.02718</td>\n",
       "      <td>810 Nw 1st St Washington Dc 20001</td>\n",
       "      <td>38.90036</td>\n",
       "      <td>-77.01225</td>\n",
       "      <td>1</td>\n",
       "      <td>20005</td>\n",
       "      <td>20001</td>\n",
       "    </tr>\n",
       "    <tr>\n",
       "      <th>1</th>\n",
       "      <td>2015-04-24 12:10:31.9666667 +00:00</td>\n",
       "      <td>2015-04-24 12:23:08.1700000 +00:00</td>\n",
       "      <td>730 Nw 12th St Washington Dc 20005</td>\n",
       "      <td>38.89867</td>\n",
       "      <td>-77.02763</td>\n",
       "      <td>2006 Nw P St Washington Dc 20036</td>\n",
       "      <td>38.90966</td>\n",
       "      <td>-77.04531</td>\n",
       "      <td>2</td>\n",
       "      <td>20001</td>\n",
       "      <td>20036</td>\n",
       "    </tr>\n",
       "    <tr>\n",
       "      <th>2</th>\n",
       "      <td>2015-04-24 13:47:14.6466667 +00:00</td>\n",
       "      <td>2015-04-24 14:06:45.7066667 +00:00</td>\n",
       "      <td>740 Nw 12th St Washington Dc 20005</td>\n",
       "      <td>38.89892</td>\n",
       "      <td>-77.02846</td>\n",
       "      <td>Arland D Williams Memorial Brg @ S George Wash...</td>\n",
       "      <td>38.87328</td>\n",
       "      <td>-77.04203</td>\n",
       "      <td>3</td>\n",
       "      <td>20005</td>\n",
       "      <td>NaN</td>\n",
       "    </tr>\n",
       "    <tr>\n",
       "      <th>3</th>\n",
       "      <td>2015-04-24 12:41:21.0266667 +00:00</td>\n",
       "      <td>2015-04-24 12:57:53.6166667 +00:00</td>\n",
       "      <td>1530 Nw K St Washington Dc 20001</td>\n",
       "      <td>38.90294</td>\n",
       "      <td>-77.03515</td>\n",
       "      <td>290 Sw Raoul Wallenberg Pl Washington Dc 20024</td>\n",
       "      <td>38.88566</td>\n",
       "      <td>-77.03374</td>\n",
       "      <td>4</td>\n",
       "      <td>20005</td>\n",
       "      <td>20024</td>\n",
       "    </tr>\n",
       "    <tr>\n",
       "      <th>4</th>\n",
       "      <td>2015-04-16 16:06:54.9766667 +00:00</td>\n",
       "      <td>2015-04-16 16:13:48.4333333 +00:00</td>\n",
       "      <td>180 Nw 22nd St Washington Dc 20037</td>\n",
       "      <td>38.89319</td>\n",
       "      <td>-77.04884</td>\n",
       "      <td>1030 Nw New Hampshire Ave Washington Dc 20036</td>\n",
       "      <td>38.90317</td>\n",
       "      <td>-77.04966</td>\n",
       "      <td>5</td>\n",
       "      <td>20418</td>\n",
       "      <td>20037</td>\n",
       "    </tr>\n",
       "  </tbody>\n",
       "</table>\n",
       "</div>"
      ],
      "text/plain": [
       "                      StartDateTime.1                         EndDateTime  \\\n",
       "0  2015-04-24 11:09:49.5900000 +00:00  2015-04-24 11:20:39.2066667 +00:00   \n",
       "1  2015-04-24 12:10:31.9666667 +00:00  2015-04-24 12:23:08.1700000 +00:00   \n",
       "2  2015-04-24 13:47:14.6466667 +00:00  2015-04-24 14:06:45.7066667 +00:00   \n",
       "3  2015-04-24 12:41:21.0266667 +00:00  2015-04-24 12:57:53.6166667 +00:00   \n",
       "4  2015-04-16 16:06:54.9766667 +00:00  2015-04-16 16:13:48.4333333 +00:00   \n",
       "\n",
       "                     OriginStreetName  OriginLatitude  OriginLongitude  \\\n",
       "0    1120 Nw L St Washington Dc 20037        38.90364        -77.02718   \n",
       "1  730 Nw 12th St Washington Dc 20005        38.89867        -77.02763   \n",
       "2  740 Nw 12th St Washington Dc 20005        38.89892        -77.02846   \n",
       "3    1530 Nw K St Washington Dc 20001        38.90294        -77.03515   \n",
       "4  180 Nw 22nd St Washington Dc 20037        38.89319        -77.04884   \n",
       "\n",
       "                               DestinationStreetName  DestinationLatitude  \\\n",
       "0                  810 Nw 1st St Washington Dc 20001             38.90036   \n",
       "1                   2006 Nw P St Washington Dc 20036             38.90966   \n",
       "2  Arland D Williams Memorial Brg @ S George Wash...             38.87328   \n",
       "3     290 Sw Raoul Wallenberg Pl Washington Dc 20024             38.88566   \n",
       "4      1030 Nw New Hampshire Ave Washington Dc 20036             38.90317   \n",
       "\n",
       "   DestinationLongitude  id pickup_zip_x pickup_zip_y  \n",
       "0             -77.01225   1        20005        20001  \n",
       "1             -77.04531   2        20001        20036  \n",
       "2             -77.04203   3        20005          NaN  \n",
       "3             -77.03374   4        20005        20024  \n",
       "4             -77.04966   5        20418        20037  "
      ]
     },
     "execution_count": 100,
     "metadata": {},
     "output_type": "execute_result"
    }
   ],
   "source": [
    "dc_rides.head()"
   ]
  },
  {
   "cell_type": "code",
   "execution_count": 103,
   "metadata": {},
   "outputs": [
    {
     "name": "stdout",
     "output_type": "stream",
     "text": [
      "<class 'pandas.core.frame.DataFrame'>\n",
      "Int64Index: 36488272 entries, 0 to 730696\n",
      "Data columns (total 6 columns):\n",
      "StartDateTime.1          object\n",
      "EndDateTime              object\n",
      "OriginStreetName         object\n",
      "DestinationStreetName    object\n",
      "pickup_zip_x             object\n",
      "pickup_zip_y             object\n",
      "dtypes: object(6)\n",
      "memory usage: 1.9+ GB\n"
     ]
    }
   ],
   "source": [
    "#drop unneeded columns\n",
    "dc_rides.drop(['OriginLatitude','OriginLongitude','DestinationLatitude','DestinationLongitude','id'],axis=1,inplace=True)\n",
    "dc_rides.to_csv(\"all_rides_geotagged.csv\")\n",
    "dc_rides.info()"
   ]
  },
  {
   "cell_type": "code",
   "execution_count": 105,
   "metadata": {},
   "outputs": [],
   "source": [
    "dc_rides['dest_zip']= dc_rides['DestinationStreetName'].str[-5:]\n",
    "dc_rides['org_zip']= dc_rides['OriginStreetName'].str[-5:]"
   ]
  },
  {
   "cell_type": "code",
   "execution_count": 108,
   "metadata": {},
   "outputs": [],
   "source": [
    "dc_rides['StartDateTime.1'] = pd.to_datetime(dc_rides['StartDateTime.1'],errors='coerce')\n",
    "dc_rides['EndDateTime'] = pd.to_datetime(dc_rides['EndDateTime'],errors='coerce')"
   ]
  },
  {
   "cell_type": "code",
   "execution_count": 109,
   "metadata": {},
   "outputs": [],
   "source": [
    "dc_rides['YEAR'] = pd.DatetimeIndex(dc_rides['StartDateTime.1']).year #create a year column\n",
    "dc_rides['DOY'] = pd.DatetimeIndex(dc_rides['StartDateTime.1']).dayofyear #create a day of year column\n",
    "dc_rides['HOUR']= pd.DatetimeIndex(dc_rides['StartDateTime.1']).hour #create an hour of day column\n",
    "dc_rides['DAY']= pd.DatetimeIndex(dc_rides['StartDateTime.1']).day"
   ]
  },
  {
   "cell_type": "code",
   "execution_count": 112,
   "metadata": {},
   "outputs": [],
   "source": [
    "dc_rides.to_csv('pre_agg.csv')"
   ]
  },
  {
   "cell_type": "code",
   "execution_count": 122,
   "metadata": {},
   "outputs": [],
   "source": [
    "#clean up data set\n",
    "dc_rides.drop(['dest_zip','org_zip','pickup_match','StartDateTime.1','EndDateTime','OriginStreetName',\n",
    "               'DestinationStreetName'],axis=1,inplace=True)\n",
    "dc_rides.rename({'pickup_zip_x':'PICKUPZIP','pickup_zip_y':'DROPOFFZIP'},inplace=True)\n",
    "dc_rides.dropna(how='any',inplace=True)"
   ]
  },
  {
   "cell_type": "code",
   "execution_count": 133,
   "metadata": {},
   "outputs": [],
   "source": [
    "dc_rides = dc_rides.groupby(['PICKUPZIP','DROPOFFZIP','YEAR','DOY','HOUR'])['DAY'].count()"
   ]
  },
  {
   "cell_type": "code",
   "execution_count": 135,
   "metadata": {},
   "outputs": [],
   "source": [
    "dc_rides = pd.DataFrame(dc_rides)"
   ]
  },
  {
   "cell_type": "code",
   "execution_count": 137,
   "metadata": {},
   "outputs": [],
   "source": [
    "dc_rides.reset_index(inplace=True)"
   ]
  },
  {
   "cell_type": "code",
   "execution_count": 147,
   "metadata": {},
   "outputs": [],
   "source": [
    "dc_rides.to_csv('dc_rides_2015_2017.csv')"
   ]
  }
 ],
 "metadata": {
  "kernelspec": {
   "display_name": "PUI2016_Python3",
   "language": "python",
   "name": "pui2016_python3"
  },
  "language_info": {
   "codemirror_mode": {
    "name": "ipython",
    "version": 3
   },
   "file_extension": ".py",
   "mimetype": "text/x-python",
   "name": "python",
   "nbconvert_exporter": "python",
   "pygments_lexer": "ipython3",
   "version": "3.5.4"
  }
 },
 "nbformat": 4,
 "nbformat_minor": 2
}
