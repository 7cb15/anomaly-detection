{
 "cells": [
  {
   "cell_type": "code",
   "execution_count": 1,
   "metadata": {},
   "outputs": [],
   "source": [
    "#import necessary packages\n",
    "import pandas as pd\n",
    "import numpy as np\n",
    "#import gdown\n",
    "import glob\n",
    "import os \n",
    "import geopandas as gpd\n",
    "import geopy.distance\n",
    "from shapely.geometry import Point"
   ]
  },
  {
   "cell_type": "code",
   "execution_count": 2,
   "metadata": {},
   "outputs": [
    {
     "data": {
      "text/plain": [
       "'/nfshome/cb4102/MOB'"
      ]
     },
     "execution_count": 2,
     "metadata": {},
     "output_type": "execute_result"
    }
   ],
   "source": [
    "os.getcwd() #double check active directory"
   ]
  },
  {
   "cell_type": "code",
   "execution_count": 3,
   "metadata": {},
   "outputs": [
    {
     "name": "stdout",
     "output_type": "stream",
     "text": [
      "/bin/sh: 1: gdown: not found\n",
      "unzip:  cannot find or open taxitrip_2016.zip, taxitrip_2016.zip.zip or taxitrip_2016.zip.ZIP.\n"
     ]
    }
   ],
   "source": [
    "#2015 Data Import and Unzip\n",
    "#google drive file_identifier = 1puXsYIPYZ_GHGAYa67CGEu4Ii8LexscD\n",
    "\n",
    "!gdown https://drive.google.com/uc?id=1puXsYIPYZ_GHGAYa67CGEu4Ii8LexscD\n",
    "\n",
    "#unzip file\n",
    "!unzip taxitrip_2016.zip -d '/nfshome/cb4102/MOB'"
   ]
  },
  {
   "cell_type": "code",
   "execution_count": 3,
   "metadata": {},
   "outputs": [
    {
     "name": "stdout",
     "output_type": "stream",
     "text": [
      "Archive:  taxitrip_2015.zip\n",
      "  inflating: /nfshome/cb4102/MOB/taxi_2015_12.txt  \n",
      "  inflating: /nfshome/cb4102/MOB/README_DC_Taxicab_trip.txt  \n",
      "  inflating: /nfshome/cb4102/MOB/taxi_2015_05.txt  \n",
      "  inflating: /nfshome/cb4102/MOB/taxi_2015_06.txt  \n",
      "  inflating: /nfshome/cb4102/MOB/taxi_2015_07.txt  \n",
      "  inflating: /nfshome/cb4102/MOB/taxi_2015_08.txt  \n",
      "  inflating: /nfshome/cb4102/MOB/taxi_2015_09.txt  \n",
      "  inflating: /nfshome/cb4102/MOB/taxi_2015_10.txt  \n",
      "  inflating: /nfshome/cb4102/MOB/taxi_2015_11.txt  \n"
     ]
    }
   ],
   "source": [
    "#2015 Data Import and Unzip\n",
    "#google drive file_identifier = 0B4JuB6g9n_rmYXpUcVFFSmZ2QTg\n",
    "\n",
    "!gdown https://drive.google.com/uc?id=0B4JuB6g9n_rmYXpUcVFFSmZ2QTg\n",
    "\n",
    "#unzip to data folder\n",
    "!unzip taxitrip_2015.zip -d '/nfshome/cb4102/MOB'"
   ]
  },
  {
   "cell_type": "code",
   "execution_count": 6,
   "metadata": {},
   "outputs": [
    {
     "name": "stdout",
     "output_type": "stream",
     "text": [
      "Archive:  taxitrip_2017.zip\n",
      "  inflating: /nfshome/cb4102/MOB/taxi_2017_01.txt  \n",
      "  inflating: /nfshome/cb4102/MOB/taxi_2017_02.txt  \n",
      "  inflating: /nfshome/cb4102/MOB/taxi_2017_03.txt  \n",
      "  inflating: /nfshome/cb4102/MOB/taxi_2017_04.txt  \n",
      "  inflating: /nfshome/cb4102/MOB/taxi_2017_05.txt  \n",
      "  inflating: /nfshome/cb4102/MOB/taxi_2017_06.txt  \n",
      "  inflating: /nfshome/cb4102/MOB/taxi_2017_07.txt  \n",
      "  inflating: /nfshome/cb4102/MOB/README_DC_Taxicab_trip.txt  \n"
     ]
    }
   ],
   "source": [
    "#2017 Data Import and Unzip\n",
    "#google drive file_identifier = 0B4JuB6g9n_rmOG9YVk5uWWpZYVU\n",
    "\n",
    "!gdown https://drive.google.com/uc?id=0B4JuB6g9n_rmOG9YVk5uWWpZYVU\n",
    "\n",
    "#unzip to data folder\n",
    "!unzip taxitrip_2017.zip -d '/nfshome/cb4102/MOB'"
   ]
  },
  {
   "cell_type": "code",
   "execution_count": 6,
   "metadata": {},
   "outputs": [],
   "source": [
    "#import individual month as dataframes and concatenate\n",
    "\n",
    "path =r'/nfshome/cb4102/MOB/Data' #set path for file import\n",
    "\n",
    "allFiles = glob.glob(path + \"/*.txt\")\n",
    "\n",
    "ride_data_all = pd.DataFrame()\n",
    "\n",
    "file_list = []\n",
    "\n",
    "for file_ in allFiles:\n",
    "    df = pd.read_csv(file_, sep = '|', error_bad_lines=False, skipinitialspace=True, dtype=object)\n",
    "    file_list.append(df)\n",
    "\n",
    "ride_data_all = pd.concat(file_list)"
   ]
  },
  {
   "cell_type": "code",
   "execution_count": 4,
   "metadata": {},
   "outputs": [
    {
     "data": {
      "text/plain": [
       "Index(['OBJECTID', 'TRIPTYPE', 'PROVIDER', 'METERFARE', 'TIP', 'SURCHARGE',\n",
       "       'EXTRAS', 'TOLLS', 'TOTALAMOUNT', 'PAYMENTTYPE', 'PAYMENTCARDPROVIDER',\n",
       "       'PICKUPCITY', 'PICKUPSTATE', 'PICKUPZIP', 'DROPOFFCITY', 'DROPOFFSTATE',\n",
       "       'DROPOFFZIP', 'TRIPMILEAGE', 'TRIPTIME', 'PICKUP_BLOCK_LATITUDE',\n",
       "       'PICKUP_BLOCK_LONGITUDE', 'PICKUP_BLOCKNAME', 'DROPOFF_BLOCK_LATITUDE',\n",
       "       'DROPOFF_BLOCK_LONGITUDE', 'DROPOFF_BLOCKNAME', 'AIRPORT',\n",
       "       'PICKUPDATETIME_TR', 'DROPOFFDATETIME_TR'],\n",
       "      dtype='object')"
      ]
     },
     "execution_count": 4,
     "metadata": {},
     "output_type": "execute_result"
    }
   ],
   "source": [
    "ride_data_all.columns"
   ]
  },
  {
   "cell_type": "code",
   "execution_count": 5,
   "metadata": {},
   "outputs": [
    {
     "data": {
      "text/plain": [
       "(31542958, 28)"
      ]
     },
     "execution_count": 5,
     "metadata": {},
     "output_type": "execute_result"
    }
   ],
   "source": [
    "ride_data_all.shape"
   ]
  },
  {
   "cell_type": "code",
   "execution_count": 6,
   "metadata": {},
   "outputs": [
    {
     "data": {
      "text/html": [
       "<div>\n",
       "<style scoped>\n",
       "    .dataframe tbody tr th:only-of-type {\n",
       "        vertical-align: middle;\n",
       "    }\n",
       "\n",
       "    .dataframe tbody tr th {\n",
       "        vertical-align: top;\n",
       "    }\n",
       "\n",
       "    .dataframe thead th {\n",
       "        text-align: right;\n",
       "    }\n",
       "</style>\n",
       "<table border=\"1\" class=\"dataframe\">\n",
       "  <thead>\n",
       "    <tr style=\"text-align: right;\">\n",
       "      <th></th>\n",
       "      <th>OBJECTID</th>\n",
       "      <th>TRIPTYPE</th>\n",
       "      <th>PROVIDER</th>\n",
       "      <th>METERFARE</th>\n",
       "      <th>TIP</th>\n",
       "      <th>SURCHARGE</th>\n",
       "      <th>EXTRAS</th>\n",
       "      <th>TOLLS</th>\n",
       "      <th>TOTALAMOUNT</th>\n",
       "      <th>PAYMENTTYPE</th>\n",
       "      <th>...</th>\n",
       "      <th>TRIPTIME</th>\n",
       "      <th>PICKUP_BLOCK_LATITUDE</th>\n",
       "      <th>PICKUP_BLOCK_LONGITUDE</th>\n",
       "      <th>PICKUP_BLOCKNAME</th>\n",
       "      <th>DROPOFF_BLOCK_LATITUDE</th>\n",
       "      <th>DROPOFF_BLOCK_LONGITUDE</th>\n",
       "      <th>DROPOFF_BLOCKNAME</th>\n",
       "      <th>AIRPORT</th>\n",
       "      <th>PICKUPDATETIME_TR</th>\n",
       "      <th>DROPOFFDATETIME_TR</th>\n",
       "    </tr>\n",
       "  </thead>\n",
       "  <tbody>\n",
       "    <tr>\n",
       "      <th>0</th>\n",
       "      <td>4887</td>\n",
       "      <td>PSP</td>\n",
       "      <td>United Ventures</td>\n",
       "      <td>6.49</td>\n",
       "      <td>2.00</td>\n",
       "      <td>0.25</td>\n",
       "      <td>0.25</td>\n",
       "      <td>0.00</td>\n",
       "      <td>8.74</td>\n",
       "      <td>CreditCard</td>\n",
       "      <td>...</td>\n",
       "      <td>7</td>\n",
       "      <td>38.905199</td>\n",
       "      <td>-77.040856</td>\n",
       "      <td>1130 - 1199 BLOCK OF CONNECTICUT AVENUE NW</td>\n",
       "      <td>38.915929</td>\n",
       "      <td>-77.031954</td>\n",
       "      <td>1900 - 1920 BLOCK OF 14TH STREET NW</td>\n",
       "      <td>N</td>\n",
       "      <td>02/21/2016 00:00</td>\n",
       "      <td>02/21/2016 00:00</td>\n",
       "    </tr>\n",
       "    <tr>\n",
       "      <th>1</th>\n",
       "      <td>4888</td>\n",
       "      <td>PSP</td>\n",
       "      <td>United Ventures</td>\n",
       "      <td>17.02</td>\n",
       "      <td>0.00</td>\n",
       "      <td>0.25</td>\n",
       "      <td>0.25</td>\n",
       "      <td>0.00</td>\n",
       "      <td>17.27</td>\n",
       "      <td>Cash</td>\n",
       "      <td>...</td>\n",
       "      <td>19</td>\n",
       "      <td>38.921512</td>\n",
       "      <td>-77.072284</td>\n",
       "      <td>2301 - 2499 BLOCK OF WISCONSIN AVENUE NW</td>\n",
       "      <td>NaN</td>\n",
       "      <td>NaN</td>\n",
       "      <td>NaN</td>\n",
       "      <td>N</td>\n",
       "      <td>02/20/2016 23:00</td>\n",
       "      <td>02/20/2016 23:00</td>\n",
       "    </tr>\n",
       "    <tr>\n",
       "      <th>2</th>\n",
       "      <td>4889</td>\n",
       "      <td>PSP</td>\n",
       "      <td>United Ventures</td>\n",
       "      <td>30.25</td>\n",
       "      <td>0.00</td>\n",
       "      <td>0.25</td>\n",
       "      <td>1.25</td>\n",
       "      <td>0.00</td>\n",
       "      <td>31.50</td>\n",
       "      <td>Cash</td>\n",
       "      <td>...</td>\n",
       "      <td>29</td>\n",
       "      <td>38.909243</td>\n",
       "      <td>-77.031952</td>\n",
       "      <td>1400 - 1499 BLOCK OF 14TH STREET NW</td>\n",
       "      <td>NaN</td>\n",
       "      <td>NaN</td>\n",
       "      <td>NaN</td>\n",
       "      <td>N</td>\n",
       "      <td>02/20/2016 21:00</td>\n",
       "      <td>02/20/2016 21:00</td>\n",
       "    </tr>\n",
       "    <tr>\n",
       "      <th>3</th>\n",
       "      <td>4890</td>\n",
       "      <td>PSP</td>\n",
       "      <td>United Ventures</td>\n",
       "      <td>17.02</td>\n",
       "      <td>2.00</td>\n",
       "      <td>0.25</td>\n",
       "      <td>0.25</td>\n",
       "      <td>0.00</td>\n",
       "      <td>19.27</td>\n",
       "      <td>CreditCard</td>\n",
       "      <td>...</td>\n",
       "      <td>22</td>\n",
       "      <td>38.902525</td>\n",
       "      <td>-77.040567</td>\n",
       "      <td>1700 - 1799 BLOCK OF K STREET NW</td>\n",
       "      <td>NaN</td>\n",
       "      <td>NaN</td>\n",
       "      <td>NaN</td>\n",
       "      <td>N</td>\n",
       "      <td>02/24/2016 19:00</td>\n",
       "      <td>02/24/2016 19:00</td>\n",
       "    </tr>\n",
       "    <tr>\n",
       "      <th>4</th>\n",
       "      <td>4891</td>\n",
       "      <td>PSP</td>\n",
       "      <td>Hitch</td>\n",
       "      <td>3.25</td>\n",
       "      <td>0.00</td>\n",
       "      <td>0.00</td>\n",
       "      <td>0.25</td>\n",
       "      <td>0.00</td>\n",
       "      <td>3.50</td>\n",
       "      <td>Cash</td>\n",
       "      <td>...</td>\n",
       "      <td>0</td>\n",
       "      <td>NaN</td>\n",
       "      <td>NaN</td>\n",
       "      <td>NaN</td>\n",
       "      <td>NaN</td>\n",
       "      <td>NaN</td>\n",
       "      <td>NaN</td>\n",
       "      <td>N</td>\n",
       "      <td>02/25/2016 13:00</td>\n",
       "      <td>02/25/2016 13:00</td>\n",
       "    </tr>\n",
       "  </tbody>\n",
       "</table>\n",
       "<p>5 rows × 28 columns</p>\n",
       "</div>"
      ],
      "text/plain": [
       "  OBJECTID TRIPTYPE         PROVIDER METERFARE   TIP SURCHARGE EXTRAS TOLLS  \\\n",
       "0     4887      PSP  United Ventures      6.49  2.00      0.25   0.25  0.00   \n",
       "1     4888      PSP  United Ventures     17.02  0.00      0.25   0.25  0.00   \n",
       "2     4889      PSP  United Ventures     30.25  0.00      0.25   1.25  0.00   \n",
       "3     4890      PSP  United Ventures     17.02  2.00      0.25   0.25  0.00   \n",
       "4     4891      PSP            Hitch      3.25  0.00      0.00   0.25  0.00   \n",
       "\n",
       "  TOTALAMOUNT PAYMENTTYPE        ...         TRIPTIME PICKUP_BLOCK_LATITUDE  \\\n",
       "0        8.74  CreditCard        ...                7             38.905199   \n",
       "1       17.27        Cash        ...               19             38.921512   \n",
       "2       31.50        Cash        ...               29             38.909243   \n",
       "3       19.27  CreditCard        ...               22             38.902525   \n",
       "4        3.50        Cash        ...                0                   NaN   \n",
       "\n",
       "  PICKUP_BLOCK_LONGITUDE                            PICKUP_BLOCKNAME  \\\n",
       "0             -77.040856  1130 - 1199 BLOCK OF CONNECTICUT AVENUE NW   \n",
       "1             -77.072284    2301 - 2499 BLOCK OF WISCONSIN AVENUE NW   \n",
       "2             -77.031952         1400 - 1499 BLOCK OF 14TH STREET NW   \n",
       "3             -77.040567            1700 - 1799 BLOCK OF K STREET NW   \n",
       "4                    NaN                                         NaN   \n",
       "\n",
       "  DROPOFF_BLOCK_LATITUDE DROPOFF_BLOCK_LONGITUDE  \\\n",
       "0              38.915929              -77.031954   \n",
       "1                    NaN                     NaN   \n",
       "2                    NaN                     NaN   \n",
       "3                    NaN                     NaN   \n",
       "4                    NaN                     NaN   \n",
       "\n",
       "                     DROPOFF_BLOCKNAME AIRPORT PICKUPDATETIME_TR  \\\n",
       "0  1900 - 1920 BLOCK OF 14TH STREET NW       N  02/21/2016 00:00   \n",
       "1                                  NaN       N  02/20/2016 23:00   \n",
       "2                                  NaN       N  02/20/2016 21:00   \n",
       "3                                  NaN       N  02/24/2016 19:00   \n",
       "4                                  NaN       N  02/25/2016 13:00   \n",
       "\n",
       "  DROPOFFDATETIME_TR  \n",
       "0   02/21/2016 00:00  \n",
       "1   02/20/2016 23:00  \n",
       "2   02/20/2016 21:00  \n",
       "3   02/24/2016 19:00  \n",
       "4   02/25/2016 13:00  \n",
       "\n",
       "[5 rows x 28 columns]"
      ]
     },
     "execution_count": 6,
     "metadata": {},
     "output_type": "execute_result"
    }
   ],
   "source": [
    "ride_data_all.head()"
   ]
  },
  {
   "cell_type": "code",
   "execution_count": 7,
   "metadata": {},
   "outputs": [],
   "source": [
    "#create a filtered dataframe with just the fields needed\n",
    "ride_data_all.drop(['TRIPTYPE','PROVIDER','METERFARE','TIP','SURCHARGE','EXTRAS','TOLLS','PAYMENTTYPE','PAYMENTCARDPROVIDER','PICKUPCITY','DROPOFFCITY','PICKUP_BLOCKNAME','DROPOFF_BLOCKNAME'],axis=1,inplace=True)"
   ]
  },
  {
   "cell_type": "code",
   "execution_count": null,
   "metadata": {},
   "outputs": [
    {
     "data": {
      "text/plain": [
       "(31542958, 15)"
      ]
     },
     "execution_count": 8,
     "metadata": {},
     "output_type": "execute_result"
    }
   ],
   "source": [
    "ride_data_all.shape #check shape"
   ]
  },
  {
   "cell_type": "code",
   "execution_count": 8,
   "metadata": {},
   "outputs": [],
   "source": [
    "ride_data_all['year'] = ride_data_all['PICKUPDATETIME_TR'].str[6:-6] #splice out year from date string"
   ]
  },
  {
   "cell_type": "code",
   "execution_count": 9,
   "metadata": {},
   "outputs": [
    {
     "data": {
      "text/html": [
       "<div>\n",
       "<style scoped>\n",
       "    .dataframe tbody tr th:only-of-type {\n",
       "        vertical-align: middle;\n",
       "    }\n",
       "\n",
       "    .dataframe tbody tr th {\n",
       "        vertical-align: top;\n",
       "    }\n",
       "\n",
       "    .dataframe thead th {\n",
       "        text-align: right;\n",
       "    }\n",
       "</style>\n",
       "<table border=\"1\" class=\"dataframe\">\n",
       "  <thead>\n",
       "    <tr style=\"text-align: right;\">\n",
       "      <th></th>\n",
       "      <th>OBJECTID</th>\n",
       "      <th>TOTALAMOUNT</th>\n",
       "      <th>PICKUPSTATE</th>\n",
       "      <th>PICKUPZIP</th>\n",
       "      <th>DROPOFFSTATE</th>\n",
       "      <th>DROPOFFZIP</th>\n",
       "      <th>TRIPMILEAGE</th>\n",
       "      <th>TRIPTIME</th>\n",
       "      <th>PICKUP_BLOCK_LATITUDE</th>\n",
       "      <th>PICKUP_BLOCK_LONGITUDE</th>\n",
       "      <th>DROPOFF_BLOCK_LATITUDE</th>\n",
       "      <th>DROPOFF_BLOCK_LONGITUDE</th>\n",
       "      <th>AIRPORT</th>\n",
       "      <th>PICKUPDATETIME_TR</th>\n",
       "      <th>DROPOFFDATETIME_TR</th>\n",
       "      <th>year</th>\n",
       "    </tr>\n",
       "  </thead>\n",
       "  <tbody>\n",
       "    <tr>\n",
       "      <th>0</th>\n",
       "      <td>4887</td>\n",
       "      <td>8.74</td>\n",
       "      <td>District of Columbia</td>\n",
       "      <td>20036</td>\n",
       "      <td>District of Columbia</td>\n",
       "      <td>20009</td>\n",
       "      <td>1.00</td>\n",
       "      <td>7</td>\n",
       "      <td>38.905199</td>\n",
       "      <td>-77.040856</td>\n",
       "      <td>38.915929</td>\n",
       "      <td>-77.031954</td>\n",
       "      <td>N</td>\n",
       "      <td>02/21/2016 00:00</td>\n",
       "      <td>02/21/2016 00:00</td>\n",
       "      <td>2016</td>\n",
       "    </tr>\n",
       "    <tr>\n",
       "      <th>1</th>\n",
       "      <td>4888</td>\n",
       "      <td>17.27</td>\n",
       "      <td>District of Columbia</td>\n",
       "      <td>20007</td>\n",
       "      <td>Maryland</td>\n",
       "      <td>20814</td>\n",
       "      <td>6.00</td>\n",
       "      <td>19</td>\n",
       "      <td>38.921512</td>\n",
       "      <td>-77.072284</td>\n",
       "      <td>NaN</td>\n",
       "      <td>NaN</td>\n",
       "      <td>N</td>\n",
       "      <td>02/20/2016 23:00</td>\n",
       "      <td>02/20/2016 23:00</td>\n",
       "      <td>2016</td>\n",
       "    </tr>\n",
       "    <tr>\n",
       "      <th>2</th>\n",
       "      <td>4889</td>\n",
       "      <td>31.50</td>\n",
       "      <td>District of Columbia</td>\n",
       "      <td>20005</td>\n",
       "      <td>Virginia</td>\n",
       "      <td>22304</td>\n",
       "      <td>11.00</td>\n",
       "      <td>29</td>\n",
       "      <td>38.909243</td>\n",
       "      <td>-77.031952</td>\n",
       "      <td>NaN</td>\n",
       "      <td>NaN</td>\n",
       "      <td>N</td>\n",
       "      <td>02/20/2016 21:00</td>\n",
       "      <td>02/20/2016 21:00</td>\n",
       "      <td>2016</td>\n",
       "    </tr>\n",
       "    <tr>\n",
       "      <th>3</th>\n",
       "      <td>4890</td>\n",
       "      <td>19.27</td>\n",
       "      <td>District of Columbia</td>\n",
       "      <td>20006</td>\n",
       "      <td>Virginia</td>\n",
       "      <td>22202</td>\n",
       "      <td>5.00</td>\n",
       "      <td>22</td>\n",
       "      <td>38.902525</td>\n",
       "      <td>-77.040567</td>\n",
       "      <td>NaN</td>\n",
       "      <td>NaN</td>\n",
       "      <td>N</td>\n",
       "      <td>02/24/2016 19:00</td>\n",
       "      <td>02/24/2016 19:00</td>\n",
       "      <td>2016</td>\n",
       "    </tr>\n",
       "    <tr>\n",
       "      <th>4</th>\n",
       "      <td>4891</td>\n",
       "      <td>3.50</td>\n",
       "      <td>NaN</td>\n",
       "      <td>NaN</td>\n",
       "      <td>NaN</td>\n",
       "      <td>NaN</td>\n",
       "      <td>0.00</td>\n",
       "      <td>0</td>\n",
       "      <td>NaN</td>\n",
       "      <td>NaN</td>\n",
       "      <td>NaN</td>\n",
       "      <td>NaN</td>\n",
       "      <td>N</td>\n",
       "      <td>02/25/2016 13:00</td>\n",
       "      <td>02/25/2016 13:00</td>\n",
       "      <td>2016</td>\n",
       "    </tr>\n",
       "  </tbody>\n",
       "</table>\n",
       "</div>"
      ],
      "text/plain": [
       "  OBJECTID TOTALAMOUNT           PICKUPSTATE PICKUPZIP          DROPOFFSTATE  \\\n",
       "0     4887        8.74  District of Columbia     20036  District of Columbia   \n",
       "1     4888       17.27  District of Columbia     20007              Maryland   \n",
       "2     4889       31.50  District of Columbia     20005              Virginia   \n",
       "3     4890       19.27  District of Columbia     20006              Virginia   \n",
       "4     4891        3.50                   NaN       NaN                   NaN   \n",
       "\n",
       "  DROPOFFZIP TRIPMILEAGE TRIPTIME PICKUP_BLOCK_LATITUDE  \\\n",
       "0      20009        1.00        7             38.905199   \n",
       "1      20814        6.00       19             38.921512   \n",
       "2      22304       11.00       29             38.909243   \n",
       "3      22202        5.00       22             38.902525   \n",
       "4        NaN        0.00        0                   NaN   \n",
       "\n",
       "  PICKUP_BLOCK_LONGITUDE DROPOFF_BLOCK_LATITUDE DROPOFF_BLOCK_LONGITUDE  \\\n",
       "0             -77.040856              38.915929              -77.031954   \n",
       "1             -77.072284                    NaN                     NaN   \n",
       "2             -77.031952                    NaN                     NaN   \n",
       "3             -77.040567                    NaN                     NaN   \n",
       "4                    NaN                    NaN                     NaN   \n",
       "\n",
       "  AIRPORT PICKUPDATETIME_TR DROPOFFDATETIME_TR  year  \n",
       "0       N  02/21/2016 00:00   02/21/2016 00:00  2016  \n",
       "1       N  02/20/2016 23:00   02/20/2016 23:00  2016  \n",
       "2       N  02/20/2016 21:00   02/20/2016 21:00  2016  \n",
       "3       N  02/24/2016 19:00   02/24/2016 19:00  2016  \n",
       "4       N  02/25/2016 13:00   02/25/2016 13:00  2016  "
      ]
     },
     "execution_count": 9,
     "metadata": {},
     "output_type": "execute_result"
    }
   ],
   "source": [
    "ride_data_all.head()"
   ]
  },
  {
   "cell_type": "code",
   "execution_count": null,
   "metadata": {},
   "outputs": [
    {
     "data": {
      "text/plain": [
       "array(['2016', '2015', '2017', nan], dtype=object)"
      ]
     },
     "execution_count": 11,
     "metadata": {},
     "output_type": "execute_result"
    }
   ],
   "source": [
    "ride_data_all['year'].unique() #check to make sure all years occur"
   ]
  },
  {
   "cell_type": "code",
   "execution_count": null,
   "metadata": {},
   "outputs": [],
   "source": [
    "#drop entries where we are missing location characteristics\n",
    "ride_data_all.dropna(subset=['PICKUP_BLOCK_LATITUDE','PICKUP_BLOCK_LONGITUDE', 'DROPOFF_BLOCK_LATITUDE','DROPOFF_BLOCK_LONGITUDE'],inplace=True)"
   ]
  },
  {
   "cell_type": "code",
   "execution_count": null,
   "metadata": {},
   "outputs": [],
   "source": [
    "ride_data_all['year'].unique() #check we still have all years"
   ]
  },
  {
   "cell_type": "code",
   "execution_count": null,
   "metadata": {},
   "outputs": [],
   "source": [
    "ride_data_all.info() #lost 8-9M"
   ]
  },
  {
   "cell_type": "code",
   "execution_count": null,
   "metadata": {},
   "outputs": [],
   "source": [
    "#convert columns to correct column types\n",
    "ride_data_all['TRIPMILEAGE'] = ride_data_all['TRIPMILEAGE'].astype(float) #mileage to float\n",
    "ride_data_all['TRIPTIME'] = ride_data_all['TRIPTIME'].astype(float) #trip time to float\n",
    "ride_data_all['PICKUPDATETIME_TR'] = pd.to_datetime(ride_data_all['PICKUPDATETIME_TR']) #pick up time to date\n",
    "ride_data_all['DROPOFFDATETIME_TR'] = pd.to_datetime(ride_data_all['DROPOFFDATETIME_TR']) #drop off time to date\n",
    "ride_data_all['PICKUP_BLOCK_LATITUDE'] = ride_data_all['PICKUP_BLOCK_LATITUDE'].astype(float)\n",
    "ride_data_all['PICKUP_BLOCK_LONGITUDE'] = ride_data_all['PICKUP_BLOCK_LONGITUDE'].astype(float)\n",
    "ride_data_all['DROPOFF_BLOCK_LATITUDE'] = ride_data_all['DROPOFF_BLOCK_LATITUDE'].astype(float)\n",
    "ride_data_all['DROPOFF_BLOCK_LONGITUDE'] = ride_data_all['DROPOFF_BLOCK_LONGITUDE'].astype(float)"
   ]
  },
  {
   "cell_type": "code",
   "execution_count": null,
   "metadata": {},
   "outputs": [],
   "source": [
    "ride_data_all = ride_data_all[ride_data_all['TRIPMILEAGE'] > 0] #filter out where trip mileage is zero or less"
   ]
  },
  {
   "cell_type": "code",
   "execution_count": null,
   "metadata": {},
   "outputs": [],
   "source": [
    "ride_data_all['year'].unique() #check we still have all years"
   ]
  },
  {
   "cell_type": "code",
   "execution_count": null,
   "metadata": {},
   "outputs": [],
   "source": [
    "ride_data_all = ride_data_all[ride_data_all['TRIPTIME'] > 0] #filter out where trip time is zero"
   ]
  },
  {
   "cell_type": "code",
   "execution_count": null,
   "metadata": {},
   "outputs": [],
   "source": [
    "#ride_data_all['year'].unique() #check we still have all year"
   ]
  },
  {
   "cell_type": "code",
   "execution_count": null,
   "metadata": {},
   "outputs": [],
   "source": [
    "#create coordinate columns from the lat-lon columns\n",
    "\n",
    "#ride_data_all['START_CORD'] = list(zip(ride_data_all['PICKUP_BLOCK_LATITUDE'], ride_data_all['PICKUP_BLOCK_LONGITUDE']))"
   ]
  },
  {
   "cell_type": "code",
   "execution_count": null,
   "metadata": {},
   "outputs": [],
   "source": [
    "#ride_data_all['END_CORD'] = list(zip(ride_data_all['DROPOFF_BLOCK_LATITUDE'], ride_data_all['DROPOFF_BLOCK_LONGITUDE']))"
   ]
  },
  {
   "cell_type": "code",
   "execution_count": null,
   "metadata": {},
   "outputs": [],
   "source": [
    "#check coordinate columns\n",
    "#ride_data_all.head()"
   ]
  },
  {
   "cell_type": "code",
   "execution_count": null,
   "metadata": {
    "scrolled": true
   },
   "outputs": [],
   "source": [
    "#calculate new distance\n",
    "\n",
    "#def distancer(row):\n",
    " #   coords_1 = (row['PICKUP_BLOCK_LATITUDE'], row['PICKUP_BLOCK_LONGITUDE'])\n",
    "  #  coords_2 = (row['DROPOFF_BLOCK_LATITUDE'], row['DROPOFF_BLOCK_LONGITUDE'])\n",
    "   # return geopy.distance.VincentyDistance(coords_1, coords_2).miles\n",
    "\n",
    "#ride_data_all['pickup_dropoff_distance'] = ride_data_all.apply(distancer, axis=1)\n",
    "\n",
    "#ride_data_all['DIST_CALC'] = geopy.distance.vincenty(ride_data_all['START_CORD'], ride_data_all['END_CORD']).miles\n",
    "#df.apply(lambda row: geopy.distance.vincenty(site_coords, (row.Latitude, row.Longitude)).km, axis=1)"
   ]
  },
  {
   "cell_type": "code",
   "execution_count": null,
   "metadata": {},
   "outputs": [],
   "source": [
    "ride_data_all.shape"
   ]
  },
  {
   "cell_type": "code",
   "execution_count": null,
   "metadata": {
    "scrolled": true
   },
   "outputs": [],
   "source": [
    "#dc_clean_all = ride_data_all[ride_data_all['TRIPMILEAGE'] < 400] #filter out where calculated distance exceed 500"
   ]
  },
  {
   "cell_type": "code",
   "execution_count": null,
   "metadata": {},
   "outputs": [],
   "source": [
    "#drop all trip times that are more than 8 standard deviations from the mean\n",
    "dc_clean_all = dc_clean_all[np.abs(dc_clean_all['TRIPTIME'] - dc_clean_all['TRIPTIME'].mean()) <= (8*dc_clean_all['TRIPTIME'].std())]\n",
    "dc_clean_all = dc_clean_all[np.abs(dc_clean_all['TRIPMILEAGE'] - dc_clean_all['TRIPMILEAGE'].mean()) <= (8*dc_clean_all['TRIPMILEAGE'].std())]"
   ]
  },
  {
   "cell_type": "code",
   "execution_count": null,
   "metadata": {},
   "outputs": [],
   "source": [
    "dc_clean_all['AVG_SPEED'] = ride_data_all['TRIPMILEAGE'] / dc_clean_all['TRIPTIME'] #calculate avg speed of a ride"
   ]
  },
  {
   "cell_type": "code",
   "execution_count": null,
   "metadata": {},
   "outputs": [],
   "source": [
    "dc_clean_all = dc_clean_all[dc_clean_all['AVG_SPEED'] < 80]s"
   ]
  },
  {
   "cell_type": "code",
   "execution_count": null,
   "metadata": {},
   "outputs": [],
   "source": [
    "dc_clean_all = dc_clean_all[dc_clean_all['AVG_SPEED'] > 1]"
   ]
  },
  {
   "cell_type": "code",
   "execution_count": null,
   "metadata": {},
   "outputs": [],
   "source": [
    "#export the data before outliers have been removed\n",
    "ride_data_all.to_csv('dc_trips_raw2.csv',sep=',',encoding='utf-8')"
   ]
  },
  {
   "cell_type": "code",
   "execution_count": null,
   "metadata": {},
   "outputs": [],
   "source": [
    "#export the cleaned data\n",
    "ride_data_all.to_csv('dc_clean_all.csv',sep=',',encoding='utf-8')"
   ]
  },
  {
   "cell_type": "code",
   "execution_count": null,
   "metadata": {},
   "outputs": [],
   "source": []
  }
 ],
 "metadata": {
  "kernelspec": {
   "display_name": "geoplot",
   "language": "python",
   "name": "geoplot"
  },
  "language_info": {
   "codemirror_mode": {
    "name": "ipython",
    "version": 3
   },
   "file_extension": ".py",
   "mimetype": "text/x-python",
   "name": "python",
   "nbconvert_exporter": "python",
   "pygments_lexer": "ipython3",
   "version": "3.7.0"
  }
 },
 "nbformat": 4,
 "nbformat_minor": 2
}
